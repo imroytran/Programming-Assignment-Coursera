{
 "cells": [
  {
   "cell_type": "code",
   "execution_count": 86,
   "metadata": {},
   "outputs": [
    {
     "name": "stdout",
     "output_type": "stream",
     "text": [
      "      fun: array([-5])\n",
      " hess_inv: array([[1]])\n",
      "      jac: array([0.])\n",
      "  message: 'Optimization terminated successfully.'\n",
      "     nfev: 3\n",
      "      nit: 0\n",
      "     njev: 1\n",
      "   status: 0\n",
      "  success: True\n",
      "        x: array([30.])\n",
      "     fun: -11.0\n",
      " message: 'Optimization terminated successfully.'\n",
      "    nfev: 62\n",
      "     nit: 3\n",
      " success: True\n",
      "       x: array([25.503771])\n"
     ]
    },
    {
     "data": {
      "image/png": "[encoded data removed]",
      "text/plain": [
       "<Figure size 432x288 with 1 Axes>"
      ]
     },
     "metadata": {
      "needs_background": "light"
     },
     "output_type": "display_data"
    }
   ],
   "source": [
    "%matplotlib inline\n",
    "from numpy import array, arange, sin, exp, vectorize, rint\n",
    "from scipy import optimize\n",
    "import matplotlib.pyplot as plt\n",
    "\n",
    "def f(x):\n",
    "    return sin(x/5)*exp(x/10)+5*exp(-x/2)\n",
    "def h(x):\n",
    "    return f(x).astype(int)\n",
    "\n",
    "x_min1 = optimize.minimize(f, 2., method='BFGS')\n",
    "f1 = round(x_min1.fun, 2)\n",
    "x_min2 = optimize.minimize(f, 30., method='BFGS')\n",
    "f2 = round(x_min2.fun, 2)\n",
    "\n",
    "file = open('result1.txt', 'w')\n",
    "file.write(str(f1)+' '+str(f2))\n",
    "file.close()\n",
    "x_mingl = optimize.differential_evolution(f, [(1, 30)])\n",
    "\n",
    "fgl = round(*x_mingl.fun, 2)\n",
    "file2 = open('result2.txt', 'w')\n",
    "file2.write(str(fgl))\n",
    "file2.close()\n",
    "X = arange(1., 30., 0.01)\n",
    "plt.plot(X, f(X))\n",
    "\n",
    "plt.plot(X, h(X))\n",
    "\n",
    "x_h_min = optimize.minimize(h, 30, method='BFGS')\n",
    "print(x_h_min)\n",
    "f_h1 = int(*x_h_min.fun)\n",
    "\n",
    "x_h_mingl = optimize.differential_evolution(h, [(1, 30)])\n",
    "print(x_h_mingl)\n",
    "f_hgl = int(x_h_mingl.fun)\n",
    "\n",
    "file3 = open('result-3.txt', 'w')\n",
    "file3.write(str(f_h1)+' '+str(f_hgl))\n",
    "file3.close()\n",
    "\n",
    "plt.show()"
   ]
  },
  {
   "cell_type": "code",
   "execution_count": null,
   "metadata": {},
   "outputs": [],
   "source": []
  }
 ],
 "metadata": {
  "kernelspec": {
   "display_name": "Python 3",
   "language": "python",
   "name": "python3"
  },
  "language_info": {
   "codemirror_mode": {
    "name": "ipython",
    "version": 3
   },
   "file_extension": ".py",
   "mimetype": "text/x-python",
   "name": "python",
   "nbconvert_exporter": "python",
   "pygments_lexer": "ipython3",
   "version": "3.7.4"
  }
 },
 "nbformat": 4,
 "nbformat_minor": 2
}
